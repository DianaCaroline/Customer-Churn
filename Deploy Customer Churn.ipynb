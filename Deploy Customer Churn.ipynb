{
 "cells": [
  {
   "cell_type": "code",
   "execution_count": 1,
   "id": "77d8125a",
   "metadata": {},
   "outputs": [],
   "source": [
    "import gradio as gr\n",
    "import pickle\n",
    "import warnings\n",
    "warnings.filterwarnings('ignore')\n"
   ]
  },
  {
   "cell_type": "markdown",
   "id": "a2f2d198",
   "metadata": {},
   "source": [
    "## Load the Trained Model"
   ]
  },
  {
   "cell_type": "code",
   "execution_count": 2,
   "id": "fe30df80",
   "metadata": {},
   "outputs": [],
   "source": [
    "with open('final_model.pkl','rb') as file:\n",
    "    loaded_model = pickle.load(file)"
   ]
  },
  {
   "cell_type": "code",
   "execution_count": 3,
   "id": "13e6ca40",
   "metadata": {},
   "outputs": [],
   "source": [
    "# Creating a prediction function\n",
    "\n",
    "def prediction(cs,geo,age,tenure,bal,nop,cc,am,sal,gen):\n",
    "    \n",
    "    input_data = [[cs,geo,age,tenure,bal,nop,cc,am,sal,gen]]\n",
    "    \n",
    "    pred = loaded_model.predict(input_data)[0]  #index cuz o/p will not be in array\n",
    "    \n",
    "    if pred == 0:\n",
    "        return 'Not at risk'\n",
    "    else:\n",
    "        return 'At risk'"
   ]
  },
  {
   "cell_type": "code",
   "execution_count": 4,
   "id": "316d72b2",
   "metadata": {},
   "outputs": [
    {
     "data": {
      "text/plain": [
       "'Not at risk'"
      ]
     },
     "execution_count": 4,
     "metadata": {},
     "output_type": "execute_result"
    }
   ],
   "source": [
    "prediction(560,2255,33,3,0,1,0,0,2000,1)"
   ]
  },
  {
   "cell_type": "code",
   "execution_count": 5,
   "id": "2b0c0671",
   "metadata": {},
   "outputs": [],
   "source": [
    "## Interface \n",
    "\n",
    "# gr.Number - box to add a number\n",
    "# gr.Dropdown - shows France to the user, but input the number will go\n",
    "# gr.Slider - drag\n",
    "\n",
    "iface = gr.Interface(fn=prediction,inputs=[gr.Number(label='Enter the Credit Score'),\n",
    "                                          gr.Dropdown([('France',4522),('Germany',2255),('Spain',2233)],label='Select Country'),\n",
    "                                          gr.Slider(minimum=18,maximum=100,step=1,label='Select Age'),\n",
    "                                          gr.Number(label='Enter Tenure'),\n",
    "                                          gr.Number(label='Enter the Balance in account'),\n",
    "                                          gr.Dropdown([1,2,3,4],label = 'Enter the No. of Products with Customer'),\n",
    "                                          gr.Dropdown([('Yes',1),('No',0)],label='Does customer has Credit Card?'),\n",
    "                                          gr.Dropdown([('Yes',1),('No',0)],label='Is customer an Active Member?'),\n",
    "                                          gr.Number(label='What is the Estimated Salary of a customer?'),\n",
    "                                          gr.Dropdown([('Male',1),('Female',0)],label='Select Gender')],\n",
    "                    \n",
    "                    outputs= gr.Textbox(label='Status'),\n",
    "                    title = 'HYDERABAD PUBLIC BANK',\n",
    "                    description='Enter details of customer to predict the Status',\n",
    "                    allow_flagging='never')"
   ]
  },
  {
   "cell_type": "code",
   "execution_count": 6,
   "id": "7a8ed34c",
   "metadata": {},
   "outputs": [
    {
     "name": "stdout",
     "output_type": "stream",
     "text": [
      "Running on local URL:  http://127.0.0.1:7860\n",
      "\n",
      "To create a public link, set `share=True` in `launch()`.\n"
     ]
    },
    {
     "data": {
      "text/html": [
       "<div><iframe src=\"http://127.0.0.1:7860/\" width=\"100%\" height=\"500\" allow=\"autoplay; camera; microphone; clipboard-read; clipboard-write;\" frameborder=\"0\" allowfullscreen></iframe></div>"
      ],
      "text/plain": [
       "<IPython.core.display.HTML object>"
      ]
     },
     "metadata": {},
     "output_type": "display_data"
    },
    {
     "data": {
      "text/plain": []
     },
     "execution_count": 6,
     "metadata": {},
     "output_type": "execute_result"
    }
   ],
   "source": [
    "iface.launch()"
   ]
  },
  {
   "cell_type": "code",
   "execution_count": null,
   "id": "7c38df1d",
   "metadata": {},
   "outputs": [],
   "source": []
  },
  {
   "cell_type": "code",
   "execution_count": null,
   "id": "f68f292e",
   "metadata": {},
   "outputs": [],
   "source": []
  },
  {
   "cell_type": "code",
   "execution_count": null,
   "id": "5fb22c92",
   "metadata": {},
   "outputs": [],
   "source": []
  },
  {
   "cell_type": "code",
   "execution_count": null,
   "id": "2a478d55",
   "metadata": {},
   "outputs": [],
   "source": []
  },
  {
   "cell_type": "code",
   "execution_count": null,
   "id": "dbc5b3b2",
   "metadata": {},
   "outputs": [],
   "source": []
  },
  {
   "cell_type": "code",
   "execution_count": null,
   "id": "35652f79",
   "metadata": {},
   "outputs": [],
   "source": []
  },
  {
   "cell_type": "code",
   "execution_count": null,
   "id": "ca4082bf",
   "metadata": {},
   "outputs": [],
   "source": []
  },
  {
   "cell_type": "code",
   "execution_count": null,
   "id": "50f1955c",
   "metadata": {},
   "outputs": [],
   "source": []
  },
  {
   "cell_type": "code",
   "execution_count": null,
   "id": "3e65ac5b",
   "metadata": {},
   "outputs": [],
   "source": []
  },
  {
   "cell_type": "code",
   "execution_count": null,
   "id": "7c9244b0",
   "metadata": {},
   "outputs": [],
   "source": []
  },
  {
   "cell_type": "code",
   "execution_count": null,
   "id": "ef34fcf6",
   "metadata": {},
   "outputs": [],
   "source": []
  },
  {
   "cell_type": "code",
   "execution_count": null,
   "id": "aba59af3",
   "metadata": {},
   "outputs": [],
   "source": []
  }
 ],
 "metadata": {
  "kernelspec": {
   "display_name": "Python 3 (ipykernel)",
   "language": "python",
   "name": "python3"
  },
  "language_info": {
   "codemirror_mode": {
    "name": "ipython",
    "version": 3
   },
   "file_extension": ".py",
   "mimetype": "text/x-python",
   "name": "python",
   "nbconvert_exporter": "python",
   "pygments_lexer": "ipython3",
   "version": "3.11.5"
  }
 },
 "nbformat": 4,
 "nbformat_minor": 5
}
